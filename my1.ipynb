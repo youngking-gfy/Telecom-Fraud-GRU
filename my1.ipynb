{
 "cells": [
  {
   "cell_type": "markdown",
   "metadata": {},
   "source": [
    "# 创建并激活虚拟环境\n",
    "\n",
    "以下命令将创建一个名为`venv`的虚拟环境，并安装所需的包。"
   ]
  },
  {
   "cell_type": "code",
   "execution_count": null,
   "metadata": {},
   "outputs": [],
   "source": [
    "import sys\n",
    "print(sys.executable)"
   ]
  },
  {
   "cell_type": "code",
   "execution_count": null,
   "metadata": {},
   "outputs": [],
   "source": [
    "import os\n",
    "import sys\n",
    "print(f\"Python 版本信息: {sys.version}\")\n",
    "print(f\"\\n解释器路径: {sys.executable}\")\n",
    "print(f\"\\n当前工作目录: {os.getcwd()}\")"
   ]
  },
  {
   "cell_type": "code",
   "execution_count": 10,
   "metadata": {},
   "outputs": [
    {
     "name": "stdout",
     "output_type": "stream",
     "text": [
      "Package                       Version\n",
      "----------------------------- ------------\n",
      "anyio                         3.3.2\n",
      "argon2-cffi                   21.1.0\n",
      "async_generator               1.10\n",
      "attrs                         22.2.0\n",
      "Babel                         2.11.0\n",
      "backcall                      0.2.0\n",
      "backports.functools-lru-cache 2.0.0\n",
      "bleach                        6.1.0\n",
      "brotlipy                      0.7.0\n",
      "certifi                       2021.5.30\n",
      "cffi                          1.14.6\n",
      "charset-normalizer            2.1.1\n",
      "comm                          0.1.4\n",
      "contextvars                   2.4\n",
      "cryptography                  35.0.0\n",
      "dataclasses                   0.8\n",
      "decorator                     5.1.1\n",
      "defusedxml                    0.7.1\n",
      "entrypoints                   0.4\n",
      "idna                          3.10\n",
      "immutables                    0.16\n",
      "importlib-metadata            4.8.1\n",
      "ipykernel                     5.5.5\n",
      "ipython                       7.16.1\n",
      "ipython_genutils              0.2.0\n",
      "ipywidgets                    7.8.5\n",
      "jedi                          0.17.2\n",
      "Jinja2                        3.0.3\n",
      "json5                         0.9.5\n",
      "jsonschema                    4.1.2\n",
      "jupyter                       1.1.1\n",
      "jupyter-client                7.1.2\n",
      "jupyter-console               6.4.3\n",
      "jupyter-core                  4.8.1\n",
      "jupyter-server                1.13.2\n",
      "jupyterlab                    3.2.9\n",
      "jupyterlab-pygments           0.1.2\n",
      "jupyterlab-server             2.10.3\n",
      "jupyterlab_widgets            1.1.11\n",
      "MarkupSafe                    2.0.1\n",
      "mistune                       0.8.4\n",
      "nb-conda-kernels              2.3.1\n",
      "nbclassic                     0.3.5\n",
      "nbclient                      0.5.9\n",
      "nbconvert                     6.0.7\n",
      "nbformat                      5.1.3\n",
      "nest_asyncio                  1.6.0\n",
      "notebook                      6.3.0\n",
      "packaging                     21.3\n",
      "pandocfilters                 1.5.0\n",
      "parso                         0.7.1\n",
      "pexpect                       4.8.0\n",
      "pickleshare                   0.7.5\n",
      "pip                           21.2.2\n",
      "prometheus-client             0.17.1\n",
      "prompt-toolkit                3.0.36\n",
      "ptyprocess                    0.7.0\n",
      "pycparser                     2.21\n",
      "Pygments                      2.14.0\n",
      "pyOpenSSL                     22.0.0\n",
      "pyparsing                     3.1.4\n",
      "pyrsistent                    0.17.3\n",
      "PySocks                       1.7.1\n",
      "python-dateutil               2.8.2\n",
      "pytz                          2023.3.post1\n",
      "pyzmq                         22.3.0\n",
      "requests                      2.28.1\n",
      "Send2Trash                    1.8.2\n",
      "setuptools                    58.0.4\n",
      "six                           1.16.0\n",
      "sniffio                       1.2.0\n",
      "terminado                     0.12.1\n",
      "testpath                      0.6.0\n",
      "tornado                       6.1\n",
      "traitlets                     4.3.3\n",
      "typing_extensions             4.1.1\n",
      "urllib3                       1.26.15\n",
      "wcwidth                       0.2.10\n",
      "webencodings                  0.5.1\n",
      "websocket-client              1.3.1\n",
      "wheel                         0.37.1\n",
      "widgetsnbextension            3.6.10\n",
      "zipp                          3.6.0\n"
     ]
    }
   ],
   "source": [
    "!pip list"
   ]
  },
  {
   "cell_type": "code",
   "execution_count": 3,
   "metadata": {},
   "outputs": [
    {
     "name": "stdout",
     "output_type": "stream",
     "text": [
      "\n",
      "CondaError: Run 'conda init' before 'conda activate'\n",
      "\n"
     ]
    }
   ],
   "source": [
    "\n",
    "# 安装必要的包\n",
    "#!conda create -n tensorflow python=3.6\n",
    "!conda activate tensorflow"
   ]
  },
  {
   "cell_type": "code",
   "execution_count": 3,
   "metadata": {
    "scrolled": true
   },
   "outputs": [
    {
     "name": "stdout",
     "output_type": "stream",
     "text": [
      "Looking in indexes: https://pypi.tuna.tsinghua.edu.cn/simple\n",
      "Collecting tensorflow\n",
      "  Using cached https://pypi.tuna.tsinghua.edu.cn/packages/fe/e2/20b693b5cc699f8116075379d57c4628502f58f96aa759209b77be047882/tensorflow-2.6.2-cp36-cp36m-manylinux2010_x86_64.whl (458.3 MB)\n",
      "Collecting numpy\n",
      "  Using cached https://pypi.tuna.tsinghua.edu.cn/packages/14/32/d3fa649ad7ec0b82737b92fefd3c4dd376b0bb23730715124569f38f3a08/numpy-1.19.5-cp36-cp36m-manylinux2010_x86_64.whl (14.8 MB)\n",
      "Collecting matplotlib\n",
      "  Using cached https://pypi.tuna.tsinghua.edu.cn/packages/09/03/b7b30fa81cb687d1178e085d0f01111ceaea3bf81f9330c937fb6f6c8ca0/matplotlib-3.3.4-cp36-cp36m-manylinux1_x86_64.whl (11.5 MB)\n",
      "Collecting scipy\n",
      "  Using cached https://pypi.tuna.tsinghua.edu.cn/packages/c8/89/63171228d5ced148f5ced50305c89e8576ffc695a90b58fe5bb602b910c2/scipy-1.5.4-cp36-cp36m-manylinux1_x86_64.whl (25.9 MB)\n",
      "Collecting keras\n",
      "  Using cached https://pypi.tuna.tsinghua.edu.cn/packages/f9/4d/dc255a437c9616b155e5bd55e325e092b7cdcb4652361d733ae051d40853/keras-2.10.0-py2.py3-none-any.whl (1.7 MB)\n",
      "Collecting pandas\n",
      "  Using cached https://pypi.tuna.tsinghua.edu.cn/packages/c3/e2/00cacecafbab071c787019f00ad84ca3185952f6bb9bca9550ed83870d4d/pandas-1.1.5-cp36-cp36m-manylinux1_x86_64.whl (9.5 MB)\n",
      "Collecting scikit-learn\n",
      "  Using cached https://pypi.tuna.tsinghua.edu.cn/packages/d3/eb/d0e658465c029feb7083139d9ead51000742e88b1fb7f1504e19e1b4ce6e/scikit_learn-0.24.2-cp36-cp36m-manylinux2010_x86_64.whl (22.2 MB)\n",
      "Collecting jieba\n",
      "  Using cached https://pypi.tuna.tsinghua.edu.cn/packages/c6/cb/18eeb235f833b726522d7ebed54f2278ce28ba9438e3135ab0278d9792a2/jieba-0.42.1.tar.gz (19.2 MB)\n",
      "\u001b[31mERROR: Could not find a version that satisfies the requirement re (from versions: none)\u001b[0m\n",
      "\u001b[31mERROR: No matching distribution found for re\u001b[0m\n"
     ]
    }
   ],
   "source": [
    "!pip install -r requirements.txt -i https://pypi.tuna.tsinghua.edu.cn/simple"
   ]
  },
  {
   "cell_type": "code",
   "execution_count": 11,
   "metadata": {
    "scrolled": true
   },
   "outputs": [
    {
     "name": "stdout",
     "output_type": "stream",
     "text": [
      "Looking in indexes: https://pypi.tuna.tsinghua.edu.cn/simple\n",
      "Collecting tensorflow\n",
      "  Using cached https://pypi.tuna.tsinghua.edu.cn/packages/fe/e2/20b693b5cc699f8116075379d57c4628502f58f96aa759209b77be047882/tensorflow-2.6.2-cp36-cp36m-manylinux2010_x86_64.whl (458.3 MB)\n",
      "Collecting opt-einsum~=3.3.0\n",
      "  Downloading https://pypi.tuna.tsinghua.edu.cn/packages/bc/19/404708a7e54ad2798907210462fd950c3442ea51acc8790f3da48d2bee8b/opt_einsum-3.3.0-py3-none-any.whl (65 kB)\n",
      "\u001b[K     |████████████████████████████████| 65 kB 4.9 MB/s eta 0:00:011\n",
      "\u001b[?25hCollecting gast==0.4.0\n",
      "  Downloading https://pypi.tuna.tsinghua.edu.cn/packages/b6/48/583c032b79ae5b3daa02225a675aeb673e58d2cb698e78510feceb11958c/gast-0.4.0-py3-none-any.whl (9.8 kB)\n",
      "Collecting h5py~=3.1.0\n",
      "  Downloading https://pypi.tuna.tsinghua.edu.cn/packages/70/7a/e53e500335afb6b1aade11227cdf107fca54106a1dca5c9d13242a043f3b/h5py-3.1.0-cp36-cp36m-manylinux1_x86_64.whl (4.0 MB)\n",
      "\u001b[K     |████████████████████████████████| 4.0 MB 4.9 MB/s eta 0:00:01\n",
      "\u001b[?25hCollecting typing-extensions~=3.7.4\n",
      "  Downloading https://pypi.tuna.tsinghua.edu.cn/packages/60/7a/e881b5abb54db0e6e671ab088d079c57ce54e8a01a3ca443f561ccadb37e/typing_extensions-3.7.4.3-py3-none-any.whl (22 kB)\n",
      "Collecting wrapt~=1.12.1\n",
      "  Downloading https://pypi.tuna.tsinghua.edu.cn/packages/82/f7/e43cefbe88c5fd371f4cf0cf5eb3feccd07515af9fd6cf7dbf1d1793a797/wrapt-1.12.1.tar.gz (27 kB)\n",
      "Collecting keras<2.7,>=2.6.0\n",
      "  Downloading https://pypi.tuna.tsinghua.edu.cn/packages/5a/38/04d9b7fb53acdf861df2c4505fa96b06c779817a511e94b8882d284ba360/keras-2.6.0-py2.py3-none-any.whl (1.3 MB)\n",
      "\u001b[K     |████████████████████████████████| 1.3 MB 1.8 MB/s eta 0:00:01\n",
      "\u001b[?25hCollecting keras-preprocessing~=1.1.2\n",
      "  Downloading https://pypi.tuna.tsinghua.edu.cn/packages/79/4c/7c3275a01e12ef9368a892926ab932b33bb13d55794881e3573482b378a7/Keras_Preprocessing-1.1.2-py2.py3-none-any.whl (42 kB)\n",
      "\u001b[K     |████████████████████████████████| 42 kB 4.5 MB/s  eta 0:00:01\n",
      "\u001b[?25hRequirement already satisfied: wheel~=0.35 in /home/pxy/miniconda3/envs/tensorflow/lib/python3.6/site-packages (from tensorflow) (0.37.1)\n",
      "Collecting grpcio<2.0,>=1.37.0\n",
      "  Downloading https://pypi.tuna.tsinghua.edu.cn/packages/68/dc/31397ed1d4594a2b1495bc4e4cdc4fdb80c02a1e2593b45ac56a58e9b431/grpcio-1.48.2-cp36-cp36m-manylinux_2_17_x86_64.manylinux2014_x86_64.whl (4.6 MB)\n",
      "\u001b[K     |████████████████████████████████| 4.6 MB 11.8 MB/s eta 0:00:01\n",
      "\u001b[?25hCollecting absl-py~=0.10\n",
      "  Downloading https://pypi.tuna.tsinghua.edu.cn/packages/97/75/f5e61fb67ecbe45c31035b17562464e11b91a2b8a351bae5ca0db2969e3b/absl_py-0.15.0-py3-none-any.whl (132 kB)\n",
      "\u001b[K     |████████████████████████████████| 132 kB 11.7 MB/s eta 0:00:01\n",
      "\u001b[?25hCollecting clang~=5.0\n",
      "  Downloading https://pypi.tuna.tsinghua.edu.cn/packages/32/12/e17c1220f8ca587add2e076ebb28b6c4551fcc730e3c69a5f49679ad28e9/clang-5.0.tar.gz (30 kB)\n",
      "Collecting termcolor~=1.1.0\n",
      "  Downloading https://pypi.tuna.tsinghua.edu.cn/packages/8a/48/a76be51647d0eb9f10e2a4511bf3ffb8cc1e6b14e9e4fab46173aa79f981/termcolor-1.1.0.tar.gz (3.9 kB)\n",
      "Collecting flatbuffers~=1.12.0\n",
      "  Downloading https://pypi.tuna.tsinghua.edu.cn/packages/eb/26/712e578c5f14e26ae3314c39a1bdc4eb2ec2f4ddc89b708cf8e0a0d20423/flatbuffers-1.12-py2.py3-none-any.whl (15 kB)\n",
      "Collecting six~=1.15.0\n",
      "  Downloading https://pypi.tuna.tsinghua.edu.cn/packages/ee/ff/48bde5c0f013094d729fe4b0316ba2a24774b3ff1c52d924a8a4cb04078a/six-1.15.0-py2.py3-none-any.whl (10 kB)\n",
      "Collecting google-pasta~=0.2\n",
      "  Downloading https://pypi.tuna.tsinghua.edu.cn/packages/a3/de/c648ef6835192e6e2cc03f40b19eeda4382c49b5bafb43d88b931c4c74ac/google_pasta-0.2.0-py3-none-any.whl (57 kB)\n",
      "\u001b[K     |████████████████████████████████| 57 kB 88 kB/s eta 0:00:0101\n",
      "\u001b[?25hCollecting numpy~=1.19.2\n",
      "  Using cached https://pypi.tuna.tsinghua.edu.cn/packages/14/32/d3fa649ad7ec0b82737b92fefd3c4dd376b0bb23730715124569f38f3a08/numpy-1.19.5-cp36-cp36m-manylinux2010_x86_64.whl (14.8 MB)\n",
      "Collecting astunparse~=1.6.3\n",
      "  Downloading https://pypi.tuna.tsinghua.edu.cn/packages/2b/03/13dde6512ad7b4557eb792fbcf0c653af6076b81e5941d36ec61f7ce6028/astunparse-1.6.3-py2.py3-none-any.whl (12 kB)\n",
      "Collecting tensorboard<2.7,>=2.6.0\n",
      "  Downloading https://pypi.tuna.tsinghua.edu.cn/packages/a0/20/a59a30c32330e4ff704faa4273b251db042d495e0c367bcdf045c6fe26e9/tensorboard-2.6.0-py3-none-any.whl (5.6 MB)\n",
      "\u001b[K     |████████████████████████████████| 5.6 MB 1.4 MB/s eta 0:00:01\n",
      "\u001b[?25hCollecting protobuf>=3.9.2\n",
      "  Downloading https://pypi.tuna.tsinghua.edu.cn/packages/8f/8e/06fc0df62dd80a32739b51bb3256f1417349eb5c3899f6ccab3796937458/protobuf-3.19.6-cp36-cp36m-manylinux_2_17_x86_64.manylinux2014_x86_64.whl (1.1 MB)\n",
      "\u001b[K     |████████████████████████████████| 1.1 MB 1.7 MB/s eta 0:00:01\n",
      "\u001b[?25hCollecting tensorflow-estimator<2.7,>=2.6.0\n",
      "  Downloading https://pypi.tuna.tsinghua.edu.cn/packages/c8/54/1b2f1e22a2670546cc02e4df1b80425edaee02133173bb91aa0f6d3d0293/tensorflow_estimator-2.6.0-py2.py3-none-any.whl (462 kB)\n",
      "\u001b[K     |████████████████████████████████| 462 kB 4.8 MB/s eta 0:00:01\n",
      "\u001b[?25hCollecting cached-property\n",
      "  Downloading https://pypi.tuna.tsinghua.edu.cn/packages/48/19/f2090f7dad41e225c7f2326e4cfe6fff49e57dedb5b53636c9551f86b069/cached_property-1.5.2-py2.py3-none-any.whl (7.6 kB)\n",
      "Collecting tensorboard-data-server<0.7.0,>=0.6.0\n",
      "  Downloading https://pypi.tuna.tsinghua.edu.cn/packages/60/f9/802efd84988bffd9f644c03b6e66fde8e76c3aa33db4279ddd11c5d61f4b/tensorboard_data_server-0.6.1-py3-none-manylinux2010_x86_64.whl (4.9 MB)\n",
      "\u001b[K     |████████████████████████████████| 4.9 MB 6.0 MB/s eta 0:00:01\n",
      "\u001b[?25hCollecting werkzeug>=0.11.15\n",
      "  Downloading https://pypi.tuna.tsinghua.edu.cn/packages/f4/f3/22afbdb20cc4654b10c98043414a14057cd27fdba9d4ae61cea596000ba2/Werkzeug-2.0.3-py3-none-any.whl (289 kB)\n",
      "\u001b[K     |████████████████████████████████| 289 kB 7.6 MB/s eta 0:00:01\n",
      "\u001b[?25hCollecting google-auth<2,>=1.6.3\n",
      "  Downloading https://pypi.tuna.tsinghua.edu.cn/packages/fb/7a/1b3eb54caee1b8c73c2c3645f78a382eca4805a301a30c64a078e736e446/google_auth-1.35.0-py2.py3-none-any.whl (152 kB)\n",
      "\u001b[K     |████████████████████████████████| 152 kB 18.9 MB/s eta 0:00:01\n",
      "\u001b[?25hRequirement already satisfied: setuptools>=41.0.0 in /home/pxy/miniconda3/envs/tensorflow/lib/python3.6/site-packages (from tensorboard<2.7,>=2.6.0->tensorflow) (58.0.4)\n",
      "Requirement already satisfied: requests<3,>=2.21.0 in /home/pxy/miniconda3/envs/tensorflow/lib/python3.6/site-packages (from tensorboard<2.7,>=2.6.0->tensorflow) (2.28.1)\n",
      "Collecting google-auth-oauthlib<0.5,>=0.4.1\n",
      "  Downloading https://pypi.tuna.tsinghua.edu.cn/packages/b1/0e/0636cc1448a7abc444fb1b3a63655e294e0d2d49092dc3de05241be6d43c/google_auth_oauthlib-0.4.6-py2.py3-none-any.whl (18 kB)\n",
      "Collecting tensorboard-plugin-wit>=1.6.0\n",
      "  Downloading https://pypi.tuna.tsinghua.edu.cn/packages/e0/68/e8ecfac5dd594b676c23a7f07ea34c197d7d69b3313afdf8ac1b0a9905a2/tensorboard_plugin_wit-1.8.1-py3-none-any.whl (781 kB)\n",
      "\u001b[K     |████████████████████████████████| 781 kB 2.0 MB/s eta 0:00:01\n",
      "\u001b[?25hCollecting markdown>=2.6.8\n",
      "  Downloading https://pypi.tuna.tsinghua.edu.cn/packages/f3/df/ca72f352e15b6f8ce32b74af029f1189abffb906f7c137501ffe69c98a65/Markdown-3.3.7-py3-none-any.whl (97 kB)\n",
      "\u001b[K     |████████████████████████████████| 97 kB 1.8 MB/s eta 0:00:011\n",
      "\u001b[?25hCollecting cachetools<5.0,>=2.0.0\n",
      "  Downloading https://pypi.tuna.tsinghua.edu.cn/packages/ea/c1/4740af52db75e6dbdd57fc7e9478439815bbac549c1c05881be27d19a17d/cachetools-4.2.4-py3-none-any.whl (10 kB)\n",
      "Collecting pyasn1-modules>=0.2.1\n",
      "  Downloading https://pypi.tuna.tsinghua.edu.cn/packages/cd/8e/bea464350e1b8c6ed0da3a312659cb648804a08af6cacc6435867f74f8bd/pyasn1_modules-0.3.0-py2.py3-none-any.whl (181 kB)\n",
      "\u001b[K     |████████████████████████████████| 181 kB 1.9 MB/s eta 0:00:01\n",
      "\u001b[?25hCollecting rsa<5,>=3.1.4\n",
      "  Downloading https://pypi.tuna.tsinghua.edu.cn/packages/49/97/fa78e3d2f65c02c8e1268b9aba606569fe97f6c8f7c2d74394553347c145/rsa-4.9-py3-none-any.whl (34 kB)\n",
      "Collecting requests-oauthlib>=0.7.0\n",
      "  Downloading https://pypi.tuna.tsinghua.edu.cn/packages/3b/5d/63d4ae3b9daea098d5d6f5da83984853c1bbacd5dc826764b249fe119d24/requests_oauthlib-2.0.0-py2.py3-none-any.whl (24 kB)\n",
      "Requirement already satisfied: importlib-metadata>=4.4 in /home/pxy/miniconda3/envs/tensorflow/lib/python3.6/site-packages (from markdown>=2.6.8->tensorboard<2.7,>=2.6.0->tensorflow) (4.8.1)\n",
      "Requirement already satisfied: zipp>=0.5 in /home/pxy/miniconda3/envs/tensorflow/lib/python3.6/site-packages (from importlib-metadata>=4.4->markdown>=2.6.8->tensorboard<2.7,>=2.6.0->tensorflow) (3.6.0)\n",
      "Collecting pyasn1<0.6.0,>=0.4.6\n",
      "  Downloading https://pypi.tuna.tsinghua.edu.cn/packages/d1/75/4686d2872bf2fc0b37917cbc8bbf0dd3a5cdb0990799be1b9cbf1e1eb733/pyasn1-0.5.1-py2.py3-none-any.whl (84 kB)\n",
      "\u001b[K     |████████████████████████████████| 84 kB 8.5 MB/s  eta 0:00:01\n",
      "\u001b[?25hRequirement already satisfied: urllib3<1.27,>=1.21.1 in /home/pxy/miniconda3/envs/tensorflow/lib/python3.6/site-packages (from requests<3,>=2.21.0->tensorboard<2.7,>=2.6.0->tensorflow) (1.26.15)\n",
      "Requirement already satisfied: idna<4,>=2.5 in /home/pxy/miniconda3/envs/tensorflow/lib/python3.6/site-packages (from requests<3,>=2.21.0->tensorboard<2.7,>=2.6.0->tensorflow) (3.10)\n",
      "Requirement already satisfied: certifi>=2017.4.17 in /home/pxy/miniconda3/envs/tensorflow/lib/python3.6/site-packages (from requests<3,>=2.21.0->tensorboard<2.7,>=2.6.0->tensorflow) (2021.5.30)\n",
      "Requirement already satisfied: charset-normalizer<3,>=2 in /home/pxy/miniconda3/envs/tensorflow/lib/python3.6/site-packages (from requests<3,>=2.21.0->tensorboard<2.7,>=2.6.0->tensorflow) (2.1.1)\n",
      "Collecting oauthlib>=3.0.0\n",
      "  Downloading https://pypi.tuna.tsinghua.edu.cn/packages/7e/80/cab10959dc1faead58dc8384a781dfbf93cb4d33d50988f7a69f1b7c9bbe/oauthlib-3.2.2-py3-none-any.whl (151 kB)\n",
      "\u001b[K     |████████████████████████████████| 151 kB 1.3 MB/s eta 0:00:01\n",
      "\u001b[?25hRequirement already satisfied: dataclasses in /home/pxy/miniconda3/envs/tensorflow/lib/python3.6/site-packages (from werkzeug>=0.11.15->tensorboard<2.7,>=2.6.0->tensorflow) (0.8)\n",
      "Building wheels for collected packages: clang, termcolor, wrapt\n",
      "  Building wheel for clang (setup.py) ... \u001b[?25ldone\n",
      "\u001b[?25h  Created wheel for clang: filename=clang-5.0-py3-none-any.whl size=30694 sha256=ff8e123931d414158ac6d81f542c897449bf74a0697cef2fd9d82699e9de654d\n",
      "  Stored in directory: /home/pxy/.cache/pip/wheels/b7/a3/a3/7ea516e3e3d8b34b5101ff695bf9c7fb362ece6a32546b30ed\n",
      "  Building wheel for termcolor (setup.py) ... \u001b[?25ldone\n",
      "\u001b[?25h  Created wheel for termcolor: filename=termcolor-1.1.0-py3-none-any.whl size=4848 sha256=212f91403d999f97c676f535661f9c73f1d807be086f048602ce70cf7a863259\n",
      "  Stored in directory: /home/pxy/.cache/pip/wheels/72/93/79/e1a52c99d70255c3f70f7d5684e12f58bf4b886b5da1a3463b\n",
      "  Building wheel for wrapt (setup.py) ... \u001b[?25ldone\n",
      "\u001b[?25h  Created wheel for wrapt: filename=wrapt-1.12.1-cp36-cp36m-linux_x86_64.whl size=70104 sha256=08b2f8d0a9e9cecbb260c7dc5ab0ef2ce0ceb8869332b17f4f30913277d7f4b8\n",
      "  Stored in directory: /home/pxy/.cache/pip/wheels/30/64/60/93916e7d108f62ba24d58618c8672bb543bec97d71f9e4d8ab\n",
      "Successfully built clang termcolor wrapt\n",
      "Installing collected packages: pyasn1, typing-extensions, six, rsa, pyasn1-modules, oauthlib, cachetools, requests-oauthlib, google-auth, werkzeug, tensorboard-plugin-wit, tensorboard-data-server, protobuf, numpy, markdown, grpcio, google-auth-oauthlib, cached-property, absl-py, wrapt, termcolor, tensorflow-estimator, tensorboard, opt-einsum, keras-preprocessing, keras, h5py, google-pasta, gast, flatbuffers, clang, astunparse, tensorflow\n",
      "  Attempting uninstall: typing-extensions\n",
      "    Found existing installation: typing-extensions 4.1.1\n",
      "    Uninstalling typing-extensions-4.1.1:\n",
      "      Successfully uninstalled typing-extensions-4.1.1\n",
      "  Attempting uninstall: six\n",
      "    Found existing installation: six 1.16.0\n",
      "    Uninstalling six-1.16.0:\n",
      "      Successfully uninstalled six-1.16.0\n",
      "Successfully installed absl-py-0.15.0 astunparse-1.6.3 cached-property-1.5.2 cachetools-4.2.4 clang-5.0 flatbuffers-1.12 gast-0.4.0 google-auth-1.35.0 google-auth-oauthlib-0.4.6 google-pasta-0.2.0 grpcio-1.48.2 h5py-3.1.0 keras-2.6.0 keras-preprocessing-1.1.2 markdown-3.3.7 numpy-1.19.5 oauthlib-3.2.2 opt-einsum-3.3.0 protobuf-3.19.6 pyasn1-0.5.1 pyasn1-modules-0.3.0 requests-oauthlib-2.0.0 rsa-4.9 six-1.15.0 tensorboard-2.6.0 tensorboard-data-server-0.6.1 tensorboard-plugin-wit-1.8.1 tensorflow-2.6.2 tensorflow-estimator-2.6.0 termcolor-1.1.0 typing-extensions-3.7.4.3 werkzeug-2.0.3 wrapt-1.12.1\n",
      "Looking in indexes: https://pypi.tuna.tsinghua.edu.cn/simple\n",
      "Requirement already satisfied: numpy in /home/pxy/miniconda3/envs/tensorflow/lib/python3.6/site-packages (1.19.5)\n",
      "Looking in indexes: https://pypi.tuna.tsinghua.edu.cn/simple\n",
      "Collecting matplotlib\n",
      "  Using cached https://pypi.tuna.tsinghua.edu.cn/packages/09/03/b7b30fa81cb687d1178e085d0f01111ceaea3bf81f9330c937fb6f6c8ca0/matplotlib-3.3.4-cp36-cp36m-manylinux1_x86_64.whl (11.5 MB)\n",
      "Collecting cycler>=0.10\n",
      "  Downloading https://pypi.tuna.tsinghua.edu.cn/packages/5c/f9/695d6bedebd747e5eb0fe8fad57b72fdf25411273a39791cde838d5a8f51/cycler-0.11.0-py3-none-any.whl (6.4 kB)\n",
      "Requirement already satisfied: numpy>=1.15 in /home/pxy/miniconda3/envs/tensorflow/lib/python3.6/site-packages (from matplotlib) (1.19.5)\n",
      "Collecting pillow>=6.2.0\n",
      "  Downloading https://pypi.tuna.tsinghua.edu.cn/packages/ea/0f/2fa195c2d8c6fe0b3dc2df5fc6ac6b8dbd005ea30aaa0fa43eca88b8c664/Pillow-8.4.0-cp36-cp36m-manylinux_2_17_x86_64.manylinux2014_x86_64.whl (3.1 MB)\n",
      "\u001b[K     |████████████████████████████████| 3.1 MB 8.8 MB/s eta 0:00:01\n",
      "\u001b[?25hRequirement already satisfied: python-dateutil>=2.1 in /home/pxy/miniconda3/envs/tensorflow/lib/python3.6/site-packages (from matplotlib) (2.8.2)\n",
      "Collecting kiwisolver>=1.0.1\n",
      "  Downloading https://pypi.tuna.tsinghua.edu.cn/packages/a7/1b/cbd8ae738719b5f41592a12057ef5442e2ed5f5cb5451f8fc7e9f8875a1a/kiwisolver-1.3.1-cp36-cp36m-manylinux1_x86_64.whl (1.1 MB)\n",
      "\u001b[K     |████████████████████████████████| 1.1 MB 35.9 MB/s eta 0:00:01\n",
      "\u001b[?25hRequirement already satisfied: pyparsing!=2.0.4,!=2.1.2,!=2.1.6,>=2.0.3 in /home/pxy/miniconda3/envs/tensorflow/lib/python3.6/site-packages (from matplotlib) (3.1.4)\n",
      "Requirement already satisfied: six>=1.5 in /home/pxy/miniconda3/envs/tensorflow/lib/python3.6/site-packages (from python-dateutil>=2.1->matplotlib) (1.15.0)\n",
      "Installing collected packages: pillow, kiwisolver, cycler, matplotlib\n",
      "Successfully installed cycler-0.11.0 kiwisolver-1.3.1 matplotlib-3.3.4 pillow-8.4.0\n",
      "Looking in indexes: https://pypi.tuna.tsinghua.edu.cn/simple\n",
      "Collecting scipy\n",
      "  Using cached https://pypi.tuna.tsinghua.edu.cn/packages/c8/89/63171228d5ced148f5ced50305c89e8576ffc695a90b58fe5bb602b910c2/scipy-1.5.4-cp36-cp36m-manylinux1_x86_64.whl (25.9 MB)\n",
      "Requirement already satisfied: numpy>=1.14.5 in /home/pxy/miniconda3/envs/tensorflow/lib/python3.6/site-packages (from scipy) (1.19.5)\n",
      "Installing collected packages: scipy\n",
      "Successfully installed scipy-1.5.4\n",
      "Looking in indexes: https://pypi.tuna.tsinghua.edu.cn/simple\n",
      "Requirement already satisfied: keras in /home/pxy/miniconda3/envs/tensorflow/lib/python3.6/site-packages (2.6.0)\n",
      "Looking in indexes: https://pypi.tuna.tsinghua.edu.cn/simple\n",
      "Collecting pandas\n",
      "  Using cached https://pypi.tuna.tsinghua.edu.cn/packages/c3/e2/00cacecafbab071c787019f00ad84ca3185952f6bb9bca9550ed83870d4d/pandas-1.1.5-cp36-cp36m-manylinux1_x86_64.whl (9.5 MB)\n",
      "Requirement already satisfied: pytz>=2017.2 in /home/pxy/miniconda3/envs/tensorflow/lib/python3.6/site-packages (from pandas) (2023.3.post1)\n",
      "Requirement already satisfied: numpy>=1.15.4 in /home/pxy/miniconda3/envs/tensorflow/lib/python3.6/site-packages (from pandas) (1.19.5)\n",
      "Requirement already satisfied: python-dateutil>=2.7.3 in /home/pxy/miniconda3/envs/tensorflow/lib/python3.6/site-packages (from pandas) (2.8.2)\n",
      "Requirement already satisfied: six>=1.5 in /home/pxy/miniconda3/envs/tensorflow/lib/python3.6/site-packages (from python-dateutil>=2.7.3->pandas) (1.15.0)\n",
      "Installing collected packages: pandas\n",
      "Successfully installed pandas-1.1.5\n",
      "Looking in indexes: https://pypi.tuna.tsinghua.edu.cn/simple\n",
      "Collecting scikit-learn\n",
      "  Using cached https://pypi.tuna.tsinghua.edu.cn/packages/d3/eb/d0e658465c029feb7083139d9ead51000742e88b1fb7f1504e19e1b4ce6e/scikit_learn-0.24.2-cp36-cp36m-manylinux2010_x86_64.whl (22.2 MB)\n",
      "Requirement already satisfied: numpy>=1.13.3 in /home/pxy/miniconda3/envs/tensorflow/lib/python3.6/site-packages (from scikit-learn) (1.19.5)\n",
      "Collecting threadpoolctl>=2.0.0\n",
      "  Downloading https://pypi.tuna.tsinghua.edu.cn/packages/61/cf/6e354304bcb9c6413c4e02a747b600061c21d38ba51e7e544ac7bc66aecc/threadpoolctl-3.1.0-py3-none-any.whl (14 kB)\n",
      "Collecting joblib>=0.11\n",
      "  Downloading https://pypi.tuna.tsinghua.edu.cn/packages/7c/91/d3ba0401e62d7e42816bc7d97b82d19c95c164b3e149a87c0a1c026a735e/joblib-1.1.1-py2.py3-none-any.whl (309 kB)\n",
      "\u001b[K     |████████████████████████████████| 309 kB 4.2 MB/s eta 0:00:01\n",
      "\u001b[?25hRequirement already satisfied: scipy>=0.19.1 in /home/pxy/miniconda3/envs/tensorflow/lib/python3.6/site-packages (from scikit-learn) (1.5.4)\n",
      "Installing collected packages: threadpoolctl, joblib, scikit-learn\n",
      "Successfully installed joblib-1.1.1 scikit-learn-0.24.2 threadpoolctl-3.1.0\n",
      "Looking in indexes: https://pypi.tuna.tsinghua.edu.cn/simple\n",
      "Collecting jieba\n",
      "  Using cached https://pypi.tuna.tsinghua.edu.cn/packages/c6/cb/18eeb235f833b726522d7ebed54f2278ce28ba9438e3135ab0278d9792a2/jieba-0.42.1.tar.gz (19.2 MB)\n",
      "Building wheels for collected packages: jieba\n",
      "  Building wheel for jieba (setup.py) ... \u001b[?25ldone\n",
      "\u001b[?25h  Created wheel for jieba: filename=jieba-0.42.1-py3-none-any.whl size=19314478 sha256=4c60b7f328f8a67ef5cd1dca7055f0acdc5511a508442d811dc576c36d6ec414\n",
      "  Stored in directory: /home/pxy/.cache/pip/wheels/de/9e/4f/5a72ec71510dfe06f9bbc96ad06077629654f87fb05766ab46\n",
      "Successfully built jieba\n",
      "Installing collected packages: jieba\n",
      "Successfully installed jieba-0.42.1\n",
      "Looking in indexes: https://pypi.tuna.tsinghua.edu.cn/simple\n",
      "\u001b[31mERROR: Could not find a version that satisfies the requirement re (from versions: none)\u001b[0m\n",
      "\u001b[31mERROR: No matching distribution found for re\u001b[0m\n",
      "Looking in indexes: https://pypi.tuna.tsinghua.edu.cn/simple\n",
      "Requirement already satisfied: keras in /home/pxy/miniconda3/envs/tensorflow/lib/python3.6/site-packages (2.6.0)\n",
      "Looking in indexes: https://pypi.tuna.tsinghua.edu.cn/simple\n",
      "Requirement already satisfied: keras_preprocessing in /home/pxy/miniconda3/envs/tensorflow/lib/python3.6/site-packages (1.1.2)\n",
      "Requirement already satisfied: six>=1.9.0 in /home/pxy/miniconda3/envs/tensorflow/lib/python3.6/site-packages (from keras_preprocessing) (1.15.0)\n",
      "Requirement already satisfied: numpy>=1.9.1 in /home/pxy/miniconda3/envs/tensorflow/lib/python3.6/site-packages (from keras_preprocessing) (1.19.5)\n"
     ]
    }
   ],
   "source": [
    "!pip install tensorflow -i https://pypi.tuna.tsinghua.edu.cn/simple\n",
    "!pip install numpy -i https://pypi.tuna.tsinghua.edu.cn/simple\n",
    "!pip install matplotlib -i https://pypi.tuna.tsinghua.edu.cn/simple\n",
    "!pip install scipy -i https://pypi.tuna.tsinghua.edu.cn/simple\n",
    "!pip install keras -i https://pypi.tuna.tsinghua.edu.cn/simple\n",
    "!pip install pandas -i https://pypi.tuna.tsinghua.edu.cn/simple\n",
    "!pip install scikit-learn -i https://pypi.tuna.tsinghua.edu.cn/simple\n",
    "!pip install jieba -i https://pypi.tuna.tsinghua.edu.cn/simple\n",
    "!pip install re -i https://pypi.tuna.tsinghua.edu.cn/simple \n",
    "!pip install keras -i https://pypi.tuna.tsinghua.edu.cn/simple\n",
    "!pip install keras_preprocessing -i https://pypi.tuna.tsinghua.edu.cn/simple"
   ]
  },
  {
   "cell_type": "markdown",
   "metadata": {},
   "source": [
    "## 终于配好环境了"
   ]
  },
  {
   "cell_type": "code",
   "execution_count": 1,
   "metadata": {},
   "outputs": [],
   "source": [
    "import matplotlib.pyplot as plt  \n",
    "import numpy as np  \n",
    "import pandas as pd\n",
    "import re\n",
    "import jieba\n",
    "import jieba.analyse as analyse \n",
    "from keras.preprocessing import sequence\n",
    "from keras.preprocessing.text import Tokenizer  \n",
    "from keras.models import Sequential  \n",
    "from keras.layers import Dense,Flatten \n",
    "from keras.layers import Embedding"
   ]
  },
  {
   "cell_type": "markdown",
   "metadata": {},
   "source": [
    "## 数据预处理"
   ]
  },
  {
   "cell_type": "code",
   "execution_count": 2,
   "metadata": {},
   "outputs": [
    {
     "name": "stdout",
     "output_type": "stream",
     "text": [
      "成功读取文件: label00-last.csv (编码: UTF-8)\n",
      "成功读取文件: label01-last.csv (编码: UTF-8)\n",
      "成功读取文件: label02-last.csv (编码: UTF-8)\n",
      "读取文件 label04-last.csv 时编码错误 (尝试 UTF-8)，切换到 GBK 编码...\n",
      "成功读取文件: label04-last.csv (编码: GBK)\n",
      "成功读取文件: label03-last.csv (编码: UTF-8)\n",
      "\n",
      "总共读取了 5 个CSV文件\n",
      "合并后的数据形状: (11773, 2)\n"
     ]
    }
   ],
   "source": [
    "import glob\n",
    "import pandas as pd\n",
    "from pathlib import Path\n",
    "\n",
    "# 指定数据文件夹路径\n",
    "data_path = Path('data/')  # 替换为您的CSV文件所在文件夹路径\n",
    "\n",
    "# 获取所有CSV文件并读取到dataframes列表中\n",
    "csv_files = glob.glob(str(data_path / \"*.csv\"))  # 获取所有.csv文件\n",
    "dataframes = []\n",
    "\n",
    "for file in csv_files:\n",
    "    df = None\n",
    "    file_path = Path(file)\n",
    "    try:\n",
    "        # 尝试使用UTF-8编码读取\n",
    "        df = pd.read_csv(file, encoding='utf-8')\n",
    "        print(f\"成功读取文件: {file_path.name} (编码: UTF-8)\")\n",
    "    except UnicodeDecodeError:\n",
    "        print(f\"读取文件 {file_path.name} 时编码错误 (尝试 UTF-8)，切换到 GBK 编码...\")\n",
    "        try:\n",
    "            # 尝试使用GBK编码读取\n",
    "            df = pd.read_csv(file, encoding='gbk')\n",
    "            print(f\"成功读取文件: {file_path.name} (编码: GBK)\")\n",
    "        except Exception as e:\n",
    "            print(f\"读取文件 {file_path.name} 时出错: {e}\")\n",
    "    except Exception as e:\n",
    "        print(f\"读取文件 {file_path.name} 时出错: {e}\")\n",
    "    \n",
    "    if df is not None:\n",
    "        dataframes.append(df)\n",
    "\n",
    "# 如果需要将所有数据合并成一个DataFrame\n",
    "if dataframes:\n",
    "    combined_df = pd.concat(dataframes, ignore_index=True)\n",
    "    print(f\"\\n总共读取了 {len(dataframes)} 个CSV文件\")\n",
    "    print(f\"合并后的数据形状: {combined_df.shape}\")\n",
    "else:\n",
    "    print(\"未找到CSV文件\")"
   ]
  },
  {
   "cell_type": "code",
   "execution_count": 21,
   "metadata": {},
   "outputs": [
    {
     "name": "stdout",
     "output_type": "stream",
     "text": [
      "数据集的列名:\n",
      "Index(['content', 'label'], dtype='object')\n",
      "\n",
      "数据集的前几行:\n",
      "                                             content label\n",
      "0  【中国联通】年终大回馈，免单大奖升级。固话、宽带、移网用户每天各抽一名得全年免账单，还有20...     0\n",
      "1  【中国联通】人人有礼拿，免全年账单、爱奇艺视频会员，电影券等多样奖品，来就送。今天登录获得1...     0\n",
      "2  【中国联通】尊敬的用户，月底了，请关注话费余额。现赠送您一次在中国联通手机营业厅直充50元享...     0\n",
      "3  【中国联通手机营业厅】疯狂大砍价，砍至0元免费拿：腾讯、优酷视频会员，充值折扣券等。升级至最...     0\n",
      "4  【中国联通】双11十周年全民礼包，洗衣液、环保竹浆抽纸拼手气免费领取，更有天猫优惠券、支付宝...     0\n"
     ]
    }
   ],
   "source": [
    "data = combined_df\n",
    "# 查看数据结构\n",
    "print(\"数据集的列名:\")\n",
    "print(data.columns)\n",
    "print(\"\\n数据集的前几行:\")\n",
    "print(data.head())"
   ]
  },
  {
   "cell_type": "code",
   "execution_count": 23,
   "metadata": {},
   "outputs": [],
   "source": [
    "import pandas as pd\n",
    "\n",
    "# 假设 data 是你的 DataFrame\n",
    "data = data.sample(frac=1).reset_index(drop=True)"
   ]
  },
  {
   "cell_type": "code",
   "execution_count": 24,
   "metadata": {},
   "outputs": [
    {
     "data": {
      "text/html": [
       "<div>\n",
       "<style scoped>\n",
       "    .dataframe tbody tr th:only-of-type {\n",
       "        vertical-align: middle;\n",
       "    }\n",
       "\n",
       "    .dataframe tbody tr th {\n",
       "        vertical-align: top;\n",
       "    }\n",
       "\n",
       "    .dataframe thead th {\n",
       "        text-align: right;\n",
       "    }\n",
       "</style>\n",
       "<table border=\"1\" class=\"dataframe\">\n",
       "  <thead>\n",
       "    <tr style=\"text-align: right;\">\n",
       "      <th></th>\n",
       "      <th>content</th>\n",
       "      <th>label</th>\n",
       "    </tr>\n",
       "  </thead>\n",
       "  <tbody>\n",
       "    <tr>\n",
       "      <th>0</th>\n",
       "      <td>禧瑞都御府交房倒计时！名下万得现房政府重点改造区三八路正在进行中。黄金旺宅买到即赚到哦～您还...</td>\n",
       "      <td>0</td>\n",
       "    </tr>\n",
       "    <tr>\n",
       "      <th>1</th>\n",
       "      <td>你好，我是延安市公安局宝塔分局的民警，我姓李。我打电话是想通知你，你的招商银行卡涉嫌为犯罪分...</td>\n",
       "      <td>冒充公检法及政府机关类</td>\n",
       "    </tr>\n",
       "    <tr>\n",
       "      <th>2</th>\n",
       "      <td>尊敬的客户，欢迎您使用PLACE移动掌上营业厅客户端！我们为您提供了实时掌握最新优惠活动、快...</td>\n",
       "      <td>0</td>\n",
       "    </tr>\n",
       "    <tr>\n",
       "      <th>3</th>\n",
       "      <td>\"PLACE双地铁掘金旺铺首付DIGIT万元起，为NAME留下最保值产业班车接送看房服务并赠...</td>\n",
       "      <td>0</td>\n",
       "    </tr>\n",
       "    <tr>\n",
       "      <th>4</th>\n",
       "      <td>尊敬的客户，感谢您一直以来对中国移动的支持与信任。为了回馈广大用户，我们特别推出全新的积分计...</td>\n",
       "      <td>0</td>\n",
       "    </tr>\n",
       "    <tr>\n",
       "      <th>...</th>\n",
       "      <td>...</td>\n",
       "      <td>...</td>\n",
       "    </tr>\n",
       "    <tr>\n",
       "      <th>11768</th>\n",
       "      <td>你好，我是平凉分局的民警。我打电话是想通知你一件事：我们发现你的身份证被别人买走了并用于犯罪...</td>\n",
       "      <td>冒充公检法及政府机关类</td>\n",
       "    </tr>\n",
       "    <tr>\n",
       "      <th>11769</th>\n",
       "      <td>杭州欢迎您，西湖风光美如画。期待您的到来！</td>\n",
       "      <td>0</td>\n",
       "    </tr>\n",
       "    <tr>\n",
       "      <th>11770</th>\n",
       "      <td>新年好！恭喜发财！送您一个xxxx最新最有发展前（钱）途的生意，望能与您合作为盼：《xxxx...</td>\n",
       "      <td>0</td>\n",
       "    </tr>\n",
       "    <tr>\n",
       "      <th>11771</th>\n",
       "      <td>尊敬的用户，我们诚挚地推荐您尝试我们的第二代启赋营养品。它更贴近人体需求并为您带来更多价值！...</td>\n",
       "      <td>0</td>\n",
       "    </tr>\n",
       "    <tr>\n",
       "      <th>11772</th>\n",
       "      <td>尊敬的客户，您好！这里是京东白条客服。我们发现您已经开通了我们的服务并使用了额度功能。现在由...</td>\n",
       "      <td>冒充客服服务</td>\n",
       "    </tr>\n",
       "  </tbody>\n",
       "</table>\n",
       "<p>11773 rows × 2 columns</p>\n",
       "</div>"
      ],
      "text/plain": [
       "                                                 content        label\n",
       "0      禧瑞都御府交房倒计时！名下万得现房政府重点改造区三八路正在进行中。黄金旺宅买到即赚到哦～您还...            0\n",
       "1      你好，我是延安市公安局宝塔分局的民警，我姓李。我打电话是想通知你，你的招商银行卡涉嫌为犯罪分...  冒充公检法及政府机关类\n",
       "2      尊敬的客户，欢迎您使用PLACE移动掌上营业厅客户端！我们为您提供了实时掌握最新优惠活动、快...            0\n",
       "3      \"PLACE双地铁掘金旺铺首付DIGIT万元起，为NAME留下最保值产业班车接送看房服务并赠...            0\n",
       "4      尊敬的客户，感谢您一直以来对中国移动的支持与信任。为了回馈广大用户，我们特别推出全新的积分计...            0\n",
       "...                                                  ...          ...\n",
       "11768  你好，我是平凉分局的民警。我打电话是想通知你一件事：我们发现你的身份证被别人买走了并用于犯罪...  冒充公检法及政府机关类\n",
       "11769                              杭州欢迎您，西湖风光美如画。期待您的到来！            0\n",
       "11770  新年好！恭喜发财！送您一个xxxx最新最有发展前（钱）途的生意，望能与您合作为盼：《xxxx...            0\n",
       "11771  尊敬的用户，我们诚挚地推荐您尝试我们的第二代启赋营养品。它更贴近人体需求并为您带来更多价值！...            0\n",
       "11772  尊敬的客户，您好！这里是京东白条客服。我们发现您已经开通了我们的服务并使用了额度功能。现在由...       冒充客服服务\n",
       "\n",
       "[11773 rows x 2 columns]"
      ]
     },
     "execution_count": 24,
     "metadata": {},
     "output_type": "execute_result"
    }
   ],
   "source": [
    "data"
   ]
  },
  {
   "cell_type": "code",
   "execution_count": 25,
   "metadata": {},
   "outputs": [
    {
     "data": {
      "text/plain": [
       "content    0\n",
       "label      0\n",
       "dtype: int64"
      ]
     },
     "execution_count": 25,
     "metadata": {},
     "output_type": "execute_result"
    }
   ],
   "source": [
    "data.isnull().sum() #查看数据是否有空值"
   ]
  },
  {
   "cell_type": "code",
   "execution_count": 26,
   "metadata": {},
   "outputs": [
    {
     "data": {
      "text/plain": [
       "content    0\n",
       "label      0\n",
       "dtype: int64"
      ]
     },
     "execution_count": 26,
     "metadata": {},
     "output_type": "execute_result"
    }
   ],
   "source": [
    "data = data.dropna() #删除缺失值\n",
    "data.isnull().sum() #检查是否删干净"
   ]
  },
  {
   "cell_type": "code",
   "execution_count": 27,
   "metadata": {},
   "outputs": [
    {
     "data": {
      "text/html": [
       "<div>\n",
       "<style scoped>\n",
       "    .dataframe tbody tr th:only-of-type {\n",
       "        vertical-align: middle;\n",
       "    }\n",
       "\n",
       "    .dataframe tbody tr th {\n",
       "        vertical-align: top;\n",
       "    }\n",
       "\n",
       "    .dataframe thead th {\n",
       "        text-align: right;\n",
       "    }\n",
       "</style>\n",
       "<table border=\"1\" class=\"dataframe\">\n",
       "  <thead>\n",
       "    <tr style=\"text-align: right;\">\n",
       "      <th></th>\n",
       "      <th>content</th>\n",
       "      <th>label</th>\n",
       "    </tr>\n",
       "  </thead>\n",
       "  <tbody>\n",
       "    <tr>\n",
       "      <th>0</th>\n",
       "      <td>禧瑞都御府交房倒计时！名下万得现房政府重点改造区三八路正在进行中。黄金旺宅买到即赚到哦～您还...</td>\n",
       "      <td>0</td>\n",
       "    </tr>\n",
       "    <tr>\n",
       "      <th>1</th>\n",
       "      <td>你好，我是延安市公安局宝塔分局的民警，我姓李。我打电话是想通知你，你的招商银行卡涉嫌为犯罪分...</td>\n",
       "      <td>冒充公检法及政府机关类</td>\n",
       "    </tr>\n",
       "    <tr>\n",
       "      <th>2</th>\n",
       "      <td>尊敬的客户，欢迎您使用PLACE移动掌上营业厅客户端！我们为您提供了实时掌握最新优惠活动、快...</td>\n",
       "      <td>0</td>\n",
       "    </tr>\n",
       "    <tr>\n",
       "      <th>3</th>\n",
       "      <td>\"PLACE双地铁掘金旺铺首付DIGIT万元起，为NAME留下最保值产业班车接送看房服务并赠...</td>\n",
       "      <td>0</td>\n",
       "    </tr>\n",
       "    <tr>\n",
       "      <th>4</th>\n",
       "      <td>尊敬的客户，感谢您一直以来对中国移动的支持与信任。为了回馈广大用户，我们特别推出全新的积分计...</td>\n",
       "      <td>0</td>\n",
       "    </tr>\n",
       "    <tr>\n",
       "      <th>...</th>\n",
       "      <td>...</td>\n",
       "      <td>...</td>\n",
       "    </tr>\n",
       "    <tr>\n",
       "      <th>11768</th>\n",
       "      <td>你好，我是平凉分局的民警。我打电话是想通知你一件事：我们发现你的身份证被别人买走了并用于犯罪...</td>\n",
       "      <td>冒充公检法及政府机关类</td>\n",
       "    </tr>\n",
       "    <tr>\n",
       "      <th>11769</th>\n",
       "      <td>杭州欢迎您，西湖风光美如画。期待您的到来！</td>\n",
       "      <td>0</td>\n",
       "    </tr>\n",
       "    <tr>\n",
       "      <th>11770</th>\n",
       "      <td>新年好！恭喜发财！送您一个xxxx最新最有发展前（钱）途的生意，望能与您合作为盼：《xxxx...</td>\n",
       "      <td>0</td>\n",
       "    </tr>\n",
       "    <tr>\n",
       "      <th>11771</th>\n",
       "      <td>尊敬的用户，我们诚挚地推荐您尝试我们的第二代启赋营养品。它更贴近人体需求并为您带来更多价值！...</td>\n",
       "      <td>0</td>\n",
       "    </tr>\n",
       "    <tr>\n",
       "      <th>11772</th>\n",
       "      <td>尊敬的客户，您好！这里是京东白条客服。我们发现您已经开通了我们的服务并使用了额度功能。现在由...</td>\n",
       "      <td>冒充客服服务</td>\n",
       "    </tr>\n",
       "  </tbody>\n",
       "</table>\n",
       "<p>11773 rows × 2 columns</p>\n",
       "</div>"
      ],
      "text/plain": [
       "                                                 content        label\n",
       "0      禧瑞都御府交房倒计时！名下万得现房政府重点改造区三八路正在进行中。黄金旺宅买到即赚到哦～您还...            0\n",
       "1      你好，我是延安市公安局宝塔分局的民警，我姓李。我打电话是想通知你，你的招商银行卡涉嫌为犯罪分...  冒充公检法及政府机关类\n",
       "2      尊敬的客户，欢迎您使用PLACE移动掌上营业厅客户端！我们为您提供了实时掌握最新优惠活动、快...            0\n",
       "3      \"PLACE双地铁掘金旺铺首付DIGIT万元起，为NAME留下最保值产业班车接送看房服务并赠...            0\n",
       "4      尊敬的客户，感谢您一直以来对中国移动的支持与信任。为了回馈广大用户，我们特别推出全新的积分计...            0\n",
       "...                                                  ...          ...\n",
       "11768  你好，我是平凉分局的民警。我打电话是想通知你一件事：我们发现你的身份证被别人买走了并用于犯罪...  冒充公检法及政府机关类\n",
       "11769                              杭州欢迎您，西湖风光美如画。期待您的到来！            0\n",
       "11770  新年好！恭喜发财！送您一个xxxx最新最有发展前（钱）途的生意，望能与您合作为盼：《xxxx...            0\n",
       "11771  尊敬的用户，我们诚挚地推荐您尝试我们的第二代启赋营养品。它更贴近人体需求并为您带来更多价值！...            0\n",
       "11772  尊敬的客户，您好！这里是京东白条客服。我们发现您已经开通了我们的服务并使用了额度功能。现在由...       冒充客服服务\n",
       "\n",
       "[11773 rows x 2 columns]"
      ]
     },
     "execution_count": 27,
     "metadata": {},
     "output_type": "execute_result"
    }
   ],
   "source": [
    "data"
   ]
  },
  {
   "cell_type": "code",
   "execution_count": 28,
   "metadata": {},
   "outputs": [],
   "source": [
    "#定义删除字母,数字，汉字以外的所有符号的函数\n",
    "def remove_punctuation(line):\n",
    "    line = str(line) #转化为字符型\n",
    "    if line.strip()=='':\n",
    "        return ''\n",
    "    rule = re.compile(u\"[^a-zA-Z0-9\\u4E00-\\u9FA5]\") #匹配其他字符\n",
    "    line = rule.sub('',line) #将匹配到的字符替换为空\n",
    "    return line\n",
    "\n",
    "#停用词列表\n",
    "def stopwordslist(filepath):  \n",
    "    stopwords = [line.strip() for line in open(filepath,'r',  encoding='utf-8').readlines()]  #逐行提取停用词\n",
    "    return stopwords  \n",
    "\n",
    "#加载停用词\n",
    "stopwords = stopwordslist('stopwords.txt')"
   ]
  },
  {
   "cell_type": "code",
   "execution_count": 29,
   "metadata": {},
   "outputs": [
    {
     "name": "stdout",
     "output_type": "stream",
     "text": [
      "数据集的列名:\n",
      "Index(['content', 'label'], dtype='object')\n",
      "\n",
      "数据集的前几行:\n",
      "                                             content        label\n",
      "0  禧瑞都御府交房倒计时！名下万得现房政府重点改造区三八路正在进行中。黄金旺宅买到即赚到哦～您还...            0\n",
      "1  你好，我是延安市公安局宝塔分局的民警，我姓李。我打电话是想通知你，你的招商银行卡涉嫌为犯罪分...  冒充公检法及政府机关类\n",
      "2  尊敬的客户，欢迎您使用PLACE移动掌上营业厅客户端！我们为您提供了实时掌握最新优惠活动、快...            0\n",
      "3  \"PLACE双地铁掘金旺铺首付DIGIT万元起，为NAME留下最保值产业班车接送看房服务并赠...            0\n",
      "4  尊敬的客户，感谢您一直以来对中国移动的支持与信任。为了回馈广大用户，我们特别推出全新的积分计...            0\n"
     ]
    }
   ],
   "source": [
    "# 在读取数据后添加以下代码来查看列名\n",
    "print(\"数据集的列名:\")\n",
    "print(data.columns)\n",
    "\n",
    "# 查看数据的前几行\n",
    "print(\"\\n数据集的前几行:\")\n",
    "print(data.head())"
   ]
  },
  {
   "cell_type": "code",
   "execution_count": 30,
   "metadata": {},
   "outputs": [],
   "source": [
    "data['content_clean'] = data['content'].apply(remove_punctuation) #对content列调用定义的remove_punctuation函数"
   ]
  },
  {
   "cell_type": "code",
   "execution_count": 31,
   "metadata": {},
   "outputs": [
    {
     "data": {
      "text/html": [
       "<div>\n",
       "<style scoped>\n",
       "    .dataframe tbody tr th:only-of-type {\n",
       "        vertical-align: middle;\n",
       "    }\n",
       "\n",
       "    .dataframe tbody tr th {\n",
       "        vertical-align: top;\n",
       "    }\n",
       "\n",
       "    .dataframe thead th {\n",
       "        text-align: right;\n",
       "    }\n",
       "</style>\n",
       "<table border=\"1\" class=\"dataframe\">\n",
       "  <thead>\n",
       "    <tr style=\"text-align: right;\">\n",
       "      <th></th>\n",
       "      <th>content</th>\n",
       "      <th>label</th>\n",
       "      <th>content_clean</th>\n",
       "      <th>cut_content</th>\n",
       "    </tr>\n",
       "  </thead>\n",
       "  <tbody>\n",
       "    <tr>\n",
       "      <th>0</th>\n",
       "      <td>禧瑞都御府交房倒计时！名下万得现房政府重点改造区三八路正在进行中。黄金旺宅买到即赚到哦～您还...</td>\n",
       "      <td>0</td>\n",
       "      <td>禧瑞都御府交房倒计时名下万得现房政府重点改造区三八路正在进行中黄金旺宅买到即赚到哦您还在等什...</td>\n",
       "      <td>禧 瑞 御府 交房 倒计时 名下 万得 现房 政府 重点 改造 区 三 八路 正在 进行 中...</td>\n",
       "    </tr>\n",
       "    <tr>\n",
       "      <th>1</th>\n",
       "      <td>你好，我是延安市公安局宝塔分局的民警，我姓李。我打电话是想通知你，你的招商银行卡涉嫌为犯罪分...</td>\n",
       "      <td>冒充公检法及政府机关类</td>\n",
       "      <td>你好我是延安市公安局宝塔分局的民警我姓李我打电话是想通知你你的招商银行卡涉嫌为犯罪分子洗钱我...</td>\n",
       "      <td>你好 延安市 公安局 宝塔 分局 民警 姓李 打电话 想 通知 招商银行 卡 涉嫌 犯罪分子...</td>\n",
       "    </tr>\n",
       "    <tr>\n",
       "      <th>2</th>\n",
       "      <td>尊敬的客户，欢迎您使用PLACE移动掌上营业厅客户端！我们为您提供了实时掌握最新优惠活动、快...</td>\n",
       "      <td>0</td>\n",
       "      <td>尊敬的客户欢迎您使用PLACE移动掌上营业厅客户端我们为您提供了实时掌握最新优惠活动快速查询...</td>\n",
       "      <td>尊敬 客户 欢迎您 使用 PLACE 移动 掌上 营业厅 客户端 提供 实时 掌握 最新 优...</td>\n",
       "    </tr>\n",
       "    <tr>\n",
       "      <th>3</th>\n",
       "      <td>\"PLACE双地铁掘金旺铺首付DIGIT万元起，为NAME留下最保值产业班车接送看房服务并赠...</td>\n",
       "      <td>0</td>\n",
       "      <td>PLACE双地铁掘金旺铺首付DIGIT万元起为NAME留下最保值产业班车接送看房服务并赠送大...</td>\n",
       "      <td>PLACE 双 地铁 掘金 旺铺 首付 DIGIT 万元 起为 NAME 留下 保值 产业 ...</td>\n",
       "    </tr>\n",
       "    <tr>\n",
       "      <th>4</th>\n",
       "      <td>尊敬的客户，感谢您一直以来对中国移动的支持与信任。为了回馈广大用户，我们特别推出全新的积分计...</td>\n",
       "      <td>0</td>\n",
       "      <td>尊敬的客户感谢您一直以来对中国移动的支持与信任为了回馈广大用户我们特别推出全新的积分计划升级...</td>\n",
       "      <td>尊敬 客户 感谢您 一直 中国移动 支持 信任 回馈 广大 用户 特别 推出 全新 积分 计...</td>\n",
       "    </tr>\n",
       "  </tbody>\n",
       "</table>\n",
       "</div>"
      ],
      "text/plain": [
       "                                             content        label  \\\n",
       "0  禧瑞都御府交房倒计时！名下万得现房政府重点改造区三八路正在进行中。黄金旺宅买到即赚到哦～您还...            0   \n",
       "1  你好，我是延安市公安局宝塔分局的民警，我姓李。我打电话是想通知你，你的招商银行卡涉嫌为犯罪分...  冒充公检法及政府机关类   \n",
       "2  尊敬的客户，欢迎您使用PLACE移动掌上营业厅客户端！我们为您提供了实时掌握最新优惠活动、快...            0   \n",
       "3  \"PLACE双地铁掘金旺铺首付DIGIT万元起，为NAME留下最保值产业班车接送看房服务并赠...            0   \n",
       "4  尊敬的客户，感谢您一直以来对中国移动的支持与信任。为了回馈广大用户，我们特别推出全新的积分计...            0   \n",
       "\n",
       "                                       content_clean  \\\n",
       "0  禧瑞都御府交房倒计时名下万得现房政府重点改造区三八路正在进行中黄金旺宅买到即赚到哦您还在等什...   \n",
       "1  你好我是延安市公安局宝塔分局的民警我姓李我打电话是想通知你你的招商银行卡涉嫌为犯罪分子洗钱我...   \n",
       "2  尊敬的客户欢迎您使用PLACE移动掌上营业厅客户端我们为您提供了实时掌握最新优惠活动快速查询...   \n",
       "3  PLACE双地铁掘金旺铺首付DIGIT万元起为NAME留下最保值产业班车接送看房服务并赠送大...   \n",
       "4  尊敬的客户感谢您一直以来对中国移动的支持与信任为了回馈广大用户我们特别推出全新的积分计划升级...   \n",
       "\n",
       "                                         cut_content  \n",
       "0  禧 瑞 御府 交房 倒计时 名下 万得 现房 政府 重点 改造 区 三 八路 正在 进行 中...  \n",
       "1  你好 延安市 公安局 宝塔 分局 民警 姓李 打电话 想 通知 招商银行 卡 涉嫌 犯罪分子...  \n",
       "2  尊敬 客户 欢迎您 使用 PLACE 移动 掌上 营业厅 客户端 提供 实时 掌握 最新 优...  \n",
       "3  PLACE 双 地铁 掘金 旺铺 首付 DIGIT 万元 起为 NAME 留下 保值 产业 ...  \n",
       "4  尊敬 客户 感谢您 一直 中国移动 支持 信任 回馈 广大 用户 特别 推出 全新 积分 计...  "
      ]
     },
     "execution_count": 31,
     "metadata": {},
     "output_type": "execute_result"
    }
   ],
   "source": [
    "#将删除掉不需要字符后的内容进行分词，并过滤停用词，停用词是在语言处理中不需要的语气词，符号等\n",
    "data['cut_content'] = data['content_clean'].apply(lambda x: \" \".join([w for w in list(jieba.cut(x)) if w not in stopwords])) #去除停用词\n",
    "data.head()"
   ]
  },
  {
   "cell_type": "code",
   "execution_count": 32,
   "metadata": {},
   "outputs": [
    {
     "name": "stdout",
     "output_type": "stream",
     "text": [
      "共有 27966 个不相同的词语.\n"
     ]
    }
   ],
   "source": [
    "# 设置最频繁使用的50000个词\n",
    "max_words = 2000 #50000\n",
    "# 每条cut_review最大的长度\n",
    "max_len = 150 #250\n",
    "# 设置Embeddingceng层的维度\n",
    "embedding_dim = 200\n",
    " \n",
    "tokenizer = Tokenizer(num_words=max_words) #分词，即文本拆分为标记的过程\n",
    "tokenizer.fit_on_texts(data['cut_content'].values) #用以训练的文本列表\n",
    "word_index = tokenizer.word_index #将单词（字符串）映射为它们的排名或者索引\n",
    "print('共有 %s 个不相同的词语.' % len(word_index))"
   ]
  },
  {
   "cell_type": "code",
   "execution_count": 33,
   "metadata": {},
   "outputs": [
    {
     "name": "stdout",
     "output_type": "stream",
     "text": [
      "(11773, 150)\n",
      "(11773, 5)\n"
     ]
    }
   ],
   "source": [
    "from tensorflow.keras.preprocessing import sequence\n",
    "\n",
    "X = tokenizer.texts_to_sequences(data['cut_content'].values) #\n",
    "#填充X,让X的各个列的长度统一\n",
    "\n",
    "X = sequence.pad_sequences(X, maxlen=max_len) #截取为相同长度的序列\n",
    " \n",
    "#多类标签的onehot展开\n",
    "Y = pd.get_dummies(data['label']).values #对标签进行独热编码category\n",
    "print(X.shape)\n",
    "print(Y.shape)\n"
   ]
  },
  {
   "cell_type": "code",
   "execution_count": 13,
   "metadata": {},
   "outputs": [],
   "source": []
  },
  {
   "cell_type": "code",
   "execution_count": 34,
   "metadata": {},
   "outputs": [],
   "source": [
    "#拆分数据集，取80%留作训练和测试，20%用作验证\n",
    "X_train = X[:int(len(X)*0.8)]\n",
    "X_test = X[int(len(X)*0.8):]\n",
    "Y_train = Y[:int(len(Y)*0.8)]\n",
    "Y_test = Y[int(len(Y)*0.8):]\n"
   ]
  },
  {
   "cell_type": "code",
   "execution_count": 35,
   "metadata": {},
   "outputs": [],
   "source": [
    "from keras.layers import Dropout, Dense, LSTM,GRU, SpatialDropout1D#, sparse_categorical_crossentropy\n",
    "#定义模型\n",
    "#神经网络非常容易过拟合，可以通过减少层数，减少神经元个数等方法调节模型\n",
    "model = Sequential() #设置神经网络序列\n",
    "model.add(Embedding(input_dim=max_words, output_dim=embedding_dim)) #embedding层，设置输入输出维度\n",
    "model.add(SpatialDropout1D(0.5))\n",
    "model.add(GRU(100, dropout=0.5, recurrent_dropout=0.3, return_sequences=True)) #GRU层，丢弃30%。若后面还需要接GRU层，则return_sequences=True\n",
    "model.add(GRU(50, dropout=0.5, recurrent_dropout=0.3)) #GRU层，丢弃30%\n",
    "model.add(Dense(5, activation='softmax'))"
   ]
  },
  {
   "cell_type": "code",
   "execution_count": 36,
   "metadata": {},
   "outputs": [],
   "source": [
    "#配置模型\n",
    "model.compile(loss='categorical_crossentropy', #损失函数\n",
    "              optimizer='RMSProp', #优化器\n",
    "              metrics=['accuracy'] #评估指标\n",
    "             )"
   ]
  },
  {
   "cell_type": "code",
   "execution_count": 37,
   "metadata": {},
   "outputs": [],
   "source": [
    "#导入\n",
    "from keras.callbacks import EarlyStopping\n",
    "monitor = EarlyStopping(monitor='val_acc', min_delta=0.1, patience=4, verbose=1, mode='auto')"
   ]
  },
  {
   "cell_type": "code",
   "execution_count": 38,
   "metadata": {},
   "outputs": [
    {
     "name": "stdout",
     "output_type": "stream",
     "text": [
      "Epoch 1/50\n",
      "236/236 [==============================] - 91s 369ms/step - loss: 0.5402 - accuracy: 0.7673 - val_loss: 0.3838 - val_accuracy: 0.8174\n",
      "Epoch 2/50\n",
      "236/236 [==============================] - 86s 363ms/step - loss: 0.3101 - accuracy: 0.8726 - val_loss: 0.1981 - val_accuracy: 0.9170\n",
      "Epoch 3/50\n",
      "236/236 [==============================] - 86s 363ms/step - loss: 0.1817 - accuracy: 0.9369 - val_loss: 0.3366 - val_accuracy: 0.9061\n",
      "Epoch 4/50\n",
      "236/236 [==============================] - 86s 363ms/step - loss: 0.1119 - accuracy: 0.9656 - val_loss: 0.0868 - val_accuracy: 0.9749\n",
      "Epoch 5/50\n",
      "236/236 [==============================] - 86s 363ms/step - loss: 0.0922 - accuracy: 0.9726 - val_loss: 0.0848 - val_accuracy: 0.9754\n",
      "Epoch 6/50\n",
      "236/236 [==============================] - 86s 363ms/step - loss: 0.0748 - accuracy: 0.9803 - val_loss: 0.0725 - val_accuracy: 0.9790\n",
      "Epoch 7/50\n",
      "236/236 [==============================] - 86s 363ms/step - loss: 0.0708 - accuracy: 0.9773 - val_loss: 0.0626 - val_accuracy: 0.9815\n",
      "Epoch 8/50\n",
      "236/236 [==============================] - 86s 363ms/step - loss: 0.0614 - accuracy: 0.9826 - val_loss: 0.0653 - val_accuracy: 0.9786\n",
      "Epoch 9/50\n",
      "236/236 [==============================] - 86s 365ms/step - loss: 0.0579 - accuracy: 0.9819 - val_loss: 0.0697 - val_accuracy: 0.9794\n",
      "Epoch 10/50\n",
      "236/236 [==============================] - 86s 363ms/step - loss: 0.0447 - accuracy: 0.9868 - val_loss: 0.0640 - val_accuracy: 0.9805\n",
      "Epoch 11/50\n",
      "236/236 [==============================] - 85s 362ms/step - loss: 0.0453 - accuracy: 0.9873 - val_loss: 0.0659 - val_accuracy: 0.9798\n",
      "Epoch 12/50\n",
      "236/236 [==============================] - 85s 362ms/step - loss: 0.0386 - accuracy: 0.9892 - val_loss: 0.0511 - val_accuracy: 0.9849\n",
      "Epoch 13/50\n",
      "236/236 [==============================] - 86s 363ms/step - loss: 0.0347 - accuracy: 0.9898 - val_loss: 0.0537 - val_accuracy: 0.9851\n",
      "Epoch 14/50\n",
      "236/236 [==============================] - 86s 363ms/step - loss: 0.0294 - accuracy: 0.9900 - val_loss: 0.0542 - val_accuracy: 0.9851\n",
      "Epoch 15/50\n",
      "236/236 [==============================] - 86s 363ms/step - loss: 0.0274 - accuracy: 0.9919 - val_loss: 0.0646 - val_accuracy: 0.9817\n",
      "Epoch 16/50\n",
      "236/236 [==============================] - 86s 364ms/step - loss: 0.0222 - accuracy: 0.9926 - val_loss: 0.0570 - val_accuracy: 0.9841\n",
      "Epoch 17/50\n",
      "236/236 [==============================] - 86s 363ms/step - loss: 0.0242 - accuracy: 0.9936 - val_loss: 0.0587 - val_accuracy: 0.9841\n",
      "Epoch 18/50\n",
      "236/236 [==============================] - 86s 363ms/step - loss: 0.0182 - accuracy: 0.9941 - val_loss: 0.0711 - val_accuracy: 0.9815\n",
      "Epoch 19/50\n",
      "236/236 [==============================] - 86s 363ms/step - loss: 0.0166 - accuracy: 0.9951 - val_loss: 0.0784 - val_accuracy: 0.9809\n",
      "Epoch 20/50\n",
      "236/236 [==============================] - 86s 363ms/step - loss: 0.0157 - accuracy: 0.9936 - val_loss: 0.0713 - val_accuracy: 0.9839\n",
      "Epoch 21/50\n",
      "236/236 [==============================] - 86s 364ms/step - loss: 0.0168 - accuracy: 0.9962 - val_loss: 0.0786 - val_accuracy: 0.9843\n",
      "Epoch 22/50\n",
      "236/236 [==============================] - 86s 363ms/step - loss: 0.0141 - accuracy: 0.9949 - val_loss: 0.0610 - val_accuracy: 0.9858\n",
      "Epoch 23/50\n",
      "236/236 [==============================] - 86s 364ms/step - loss: 0.0132 - accuracy: 0.9958 - val_loss: 0.0701 - val_accuracy: 0.9862\n",
      "Epoch 24/50\n",
      "236/236 [==============================] - 85s 362ms/step - loss: 0.0097 - accuracy: 0.9962 - val_loss: 0.0712 - val_accuracy: 0.9849\n",
      "Epoch 25/50\n",
      "236/236 [==============================] - 86s 363ms/step - loss: 0.0130 - accuracy: 0.9958 - val_loss: 0.0884 - val_accuracy: 0.9822\n",
      "Epoch 26/50\n",
      "236/236 [==============================] - 86s 364ms/step - loss: 0.0098 - accuracy: 0.9975 - val_loss: 0.0825 - val_accuracy: 0.9839\n",
      "Epoch 27/50\n",
      "236/236 [==============================] - 85s 362ms/step - loss: 0.0119 - accuracy: 0.9968 - val_loss: 0.0923 - val_accuracy: 0.9834\n",
      "Epoch 28/50\n",
      "236/236 [==============================] - 86s 363ms/step - loss: 0.0138 - accuracy: 0.9968 - val_loss: 0.0895 - val_accuracy: 0.9834\n",
      "Epoch 29/50\n",
      "236/236 [==============================] - 86s 364ms/step - loss: 0.0108 - accuracy: 0.9970 - val_loss: 0.0916 - val_accuracy: 0.9839\n",
      "Epoch 30/50\n",
      "236/236 [==============================] - 86s 363ms/step - loss: 0.0069 - accuracy: 0.9977 - val_loss: 0.0819 - val_accuracy: 0.9845\n",
      "Epoch 31/50\n",
      "236/236 [==============================] - 86s 363ms/step - loss: 0.0085 - accuracy: 0.9977 - val_loss: 0.0877 - val_accuracy: 0.9845\n",
      "Epoch 32/50\n",
      "236/236 [==============================] - 86s 363ms/step - loss: 0.0085 - accuracy: 0.9972 - val_loss: 0.0872 - val_accuracy: 0.9849\n",
      "Epoch 33/50\n",
      "236/236 [==============================] - 85s 362ms/step - loss: 0.0052 - accuracy: 0.9985 - val_loss: 0.0929 - val_accuracy: 0.9841\n",
      "Epoch 34/50\n",
      "236/236 [==============================] - 86s 363ms/step - loss: 0.0071 - accuracy: 0.9981 - val_loss: 0.0979 - val_accuracy: 0.9858\n",
      "Epoch 35/50\n",
      "236/236 [==============================] - 86s 363ms/step - loss: 0.0070 - accuracy: 0.9983 - val_loss: 0.1034 - val_accuracy: 0.9819\n",
      "Epoch 36/50\n",
      "236/236 [==============================] - 86s 363ms/step - loss: 0.0053 - accuracy: 0.9989 - val_loss: 0.1047 - val_accuracy: 0.9839\n",
      "Epoch 37/50\n",
      "236/236 [==============================] - 86s 363ms/step - loss: 0.0045 - accuracy: 0.9983 - val_loss: 0.1123 - val_accuracy: 0.9834\n",
      "Epoch 38/50\n",
      "236/236 [==============================] - 86s 363ms/step - loss: 0.0060 - accuracy: 0.9987 - val_loss: 0.1094 - val_accuracy: 0.9828\n",
      "Epoch 39/50\n",
      "236/236 [==============================] - 86s 363ms/step - loss: 0.0051 - accuracy: 0.9987 - val_loss: 0.1433 - val_accuracy: 0.9790\n",
      "Epoch 40/50\n",
      "236/236 [==============================] - 86s 363ms/step - loss: 0.0037 - accuracy: 0.9987 - val_loss: 0.0983 - val_accuracy: 0.9856\n",
      "Epoch 41/50\n",
      "236/236 [==============================] - 86s 364ms/step - loss: 0.0022 - accuracy: 0.9992 - val_loss: 0.1117 - val_accuracy: 0.9851\n",
      "Epoch 42/50\n",
      "236/236 [==============================] - 86s 363ms/step - loss: 0.0026 - accuracy: 0.9985 - val_loss: 0.1171 - val_accuracy: 0.9836\n",
      "Epoch 43/50\n",
      "236/236 [==============================] - 86s 363ms/step - loss: 0.0011 - accuracy: 0.9998 - val_loss: 0.1180 - val_accuracy: 0.9836\n",
      "Epoch 44/50\n",
      "236/236 [==============================] - 86s 364ms/step - loss: 0.0067 - accuracy: 0.9981 - val_loss: 0.1315 - val_accuracy: 0.9826\n",
      "Epoch 45/50\n",
      "236/236 [==============================] - 86s 363ms/step - loss: 0.0056 - accuracy: 0.9992 - val_loss: 0.1286 - val_accuracy: 0.9834\n",
      "Epoch 46/50\n",
      "236/236 [==============================] - 86s 363ms/step - loss: 0.0041 - accuracy: 0.9992 - val_loss: 0.1235 - val_accuracy: 0.9841\n",
      "Epoch 47/50\n",
      "236/236 [==============================] - 86s 363ms/step - loss: 0.0018 - accuracy: 0.9994 - val_loss: 0.1338 - val_accuracy: 0.9832\n",
      "Epoch 48/50\n",
      "236/236 [==============================] - 86s 363ms/step - loss: 0.0058 - accuracy: 0.9987 - val_loss: 0.1349 - val_accuracy: 0.9828\n",
      "Epoch 49/50\n",
      "236/236 [==============================] - 86s 363ms/step - loss: 0.0037 - accuracy: 0.9992 - val_loss: 0.1463 - val_accuracy: 0.9817\n",
      "Epoch 50/50\n",
      "236/236 [==============================] - 86s 363ms/step - loss: 0.0026 - accuracy: 0.9994 - val_loss: 0.1506 - val_accuracy: 0.9834\n"
     ]
    }
   ],
   "source": [
    "# 早停策略\n",
    "from keras.callbacks import EarlyStopping\n",
    "\n",
    "\n",
    "epochs = 10  #5\n",
    "batch_size = 400 #64\n",
    "# 训练模型\n",
    "history = model.fit(X_train, #训练集\n",
    "                    Y_train, #标签\n",
    "                    epochs=50 , #训练轮数\n",
    "                    batch_size=20, #每次训练抽取样本数\n",
    "#                    callbacks = [monitor],\n",
    "                    validation_split=0.5, #测试集比例\n",
    "                    #validation_data=(X_test,Y_test) #测试集\n",
    "                   )"
   ]
  },
  {
   "cell_type": "code",
   "execution_count": 65,
   "metadata": {},
   "outputs": [
    {
     "ename": "ImportError",
     "evalue": "cannot import name 'Adam'",
     "output_type": "error",
     "traceback": [
      "\u001b[0;31m---------------------------------------------------------------------------\u001b[0m",
      "\u001b[0;31mImportError\u001b[0m                               Traceback (most recent call last)",
      "\u001b[0;32m<ipython-input-65-ddcbd85ed362>\u001b[0m in \u001b[0;36m<module>\u001b[0;34m\u001b[0m\n\u001b[0;32m----> 1\u001b[0;31m \u001b[0;32mfrom\u001b[0m \u001b[0mkeras\u001b[0m\u001b[0;34m.\u001b[0m\u001b[0moptimizers\u001b[0m \u001b[0;32mimport\u001b[0m \u001b[0mAdam\u001b[0m\u001b[0;34m\u001b[0m\u001b[0;34m\u001b[0m\u001b[0m\n\u001b[0m\u001b[1;32m      2\u001b[0m \u001b[0;32mfrom\u001b[0m \u001b[0mkeras\u001b[0m\u001b[0;34m.\u001b[0m\u001b[0mcallbacks\u001b[0m \u001b[0;32mimport\u001b[0m \u001b[0mLearningRateScheduler\u001b[0m\u001b[0;34m\u001b[0m\u001b[0;34m\u001b[0m\u001b[0m\n\u001b[1;32m      3\u001b[0m \u001b[0;34m\u001b[0m\u001b[0m\n\u001b[1;32m      4\u001b[0m \u001b[0;32mdef\u001b[0m \u001b[0mscheduler\u001b[0m\u001b[0;34m(\u001b[0m\u001b[0mepoch\u001b[0m\u001b[0;34m,\u001b[0m \u001b[0mlr\u001b[0m\u001b[0;34m)\u001b[0m\u001b[0;34m:\u001b[0m\u001b[0;34m\u001b[0m\u001b[0;34m\u001b[0m\u001b[0m\n\u001b[1;32m      5\u001b[0m     \u001b[0;32mif\u001b[0m \u001b[0mepoch\u001b[0m \u001b[0;34m%\u001b[0m \u001b[0;36m10\u001b[0m \u001b[0;34m==\u001b[0m \u001b[0;36m0\u001b[0m \u001b[0;32mand\u001b[0m \u001b[0mepoch\u001b[0m \u001b[0;34m!=\u001b[0m \u001b[0;36m0\u001b[0m\u001b[0;34m:\u001b[0m\u001b[0;34m\u001b[0m\u001b[0;34m\u001b[0m\u001b[0m\n",
      "\u001b[0;31mImportError\u001b[0m: cannot import name 'Adam'"
     ]
    }
   ],
   "source": []
  },
  {
   "cell_type": "code",
   "execution_count": 39,
   "metadata": {},
   "outputs": [
    {
     "name": "stdout",
     "output_type": "stream",
     "text": [
      "Model: \"sequential_1\"\n",
      "_________________________________________________________________\n",
      "Layer (type)                 Output Shape              Param #   \n",
      "=================================================================\n",
      "embedding_1 (Embedding)      (None, None, 200)         400000    \n",
      "_________________________________________________________________\n",
      "spatial_dropout1d_1 (Spatial (None, None, 200)         0         \n",
      "_________________________________________________________________\n",
      "gru_2 (GRU)                  (None, None, 100)         90600     \n",
      "_________________________________________________________________\n",
      "gru_3 (GRU)                  (None, 50)                22800     \n",
      "_________________________________________________________________\n",
      "dense_1 (Dense)              (None, 5)                 255       \n",
      "=================================================================\n",
      "Total params: 513,655\n",
      "Trainable params: 513,655\n",
      "Non-trainable params: 0\n",
      "_________________________________________________________________\n"
     ]
    }
   ],
   "source": [
    "model.summary() #模型结构                                                                                                 "
   ]
  },
  {
   "cell_type": "code",
   "execution_count": 40,
   "metadata": {},
   "outputs": [
    {
     "data": {
      "image/png": "[encoded data removed]",
      "text/plain": [
       "<Figure size 432x288 with 1 Axes>"
      ]
     },
     "metadata": {
      "needs_background": "light"
     },
     "output_type": "display_data"
    },
    {
     "data": {
      "image/png": "[encoded data removed]",
      "text/plain": [
       "<Figure size 432x288 with 1 Axes>"
      ]
     },
     "metadata": {
      "needs_background": "light"
     },
     "output_type": "display_data"
    }
   ],
   "source": [
    "#绘制损失值和准确率曲线\n",
    "import matplotlib.pyplot as plt  \n",
    "plt.title('Loss')\n",
    "plt.plot(history.history['loss'], label='train') #训练集损失\n",
    "plt.plot(history.history['val_loss'], label='test') #测试集损失\n",
    "plt.legend()\n",
    "plt.show()\n",
    "\n",
    "plt.title('Accuracy')\n",
    "plt.plot(history.history['accuracy'], label='train') #训练集准确率\n",
    "plt.plot(history.history['val_accuracy'], label='test') #测试集准确率\n",
    "plt.legend()\n",
    "plt.show()\n"
   ]
  },
  {
   "cell_type": "code",
   "execution_count": 41,
   "metadata": {},
   "outputs": [
    {
     "name": "stdout",
     "output_type": "stream",
     "text": [
      "74/74 [==============================] - 4s 49ms/step - loss: 0.1862 - accuracy: 0.9792\n"
     ]
    },
    {
     "data": {
      "text/plain": [
       "[0.18624641001224518, 0.9791932106018066]"
      ]
     },
     "execution_count": 41,
     "metadata": {},
     "output_type": "execute_result"
    }
   ],
   "source": [
    "#loss acc\n",
    "model.evaluate(X_test,Y_test) #验证集评估\n"
   ]
  },
  {
   "cell_type": "code",
   "execution_count": 42,
   "metadata": {},
   "outputs": [],
   "source": [
    "#保存模型  \n",
    "#from keras.utils import plot_model  \n",
    "\n",
    "model.save('model_GRU.h5')  #  生成模型文件 'my_model.h5'\n"
   ]
  },
  {
   "cell_type": "code",
   "execution_count": 43,
   "metadata": {},
   "outputs": [],
   "source": [
    "#加载模型 \n",
    "from keras.models import load_model \n",
    "\n",
    "model2 = load_model('model_GRU.h5') #加载储存的模型\n"
   ]
  },
  {
   "cell_type": "code",
   "execution_count": 44,
   "metadata": {},
   "outputs": [
    {
     "data": {
      "text/plain": [
       "array([2, 0, 0, ..., 0, 0, 2])"
      ]
     },
     "execution_count": 44,
     "metadata": {},
     "output_type": "execute_result"
    }
   ],
   "source": [
    "#验证集标签预测\n",
    "y_pred = model2.predict(X_test) #对验证集进行预测，预测结果为概率\n",
    "y_pred = y_pred.argmax(axis = 1) #每行最大值的索引，即概率最大的索引也是标签\n",
    "y_pred\n"
   ]
  },
  {
   "cell_type": "code",
   "execution_count": 45,
   "metadata": {},
   "outputs": [
    {
     "data": {
      "text/plain": [
       "array([2, 0, 0, ..., 0, 0, 2])"
      ]
     },
     "execution_count": 45,
     "metadata": {},
     "output_type": "execute_result"
    }
   ],
   "source": [
    "Y_test.argmax(axis=1)\n"
   ]
  },
  {
   "cell_type": "code",
   "execution_count": 51,
   "metadata": {},
   "outputs": [
    {
     "name": "stdout",
     "output_type": "stream",
     "text": [
      "Collecting seaborn\n",
      "  Using cached seaborn-0.11.2-py3-none-any.whl (292 kB)\n",
      "Requirement already satisfied: scipy>=1.0 in /home/pxy/miniconda3/envs/tensorflow/lib/python3.6/site-packages (from seaborn) (1.5.4)\n",
      "Requirement already satisfied: numpy>=1.15 in /home/pxy/miniconda3/envs/tensorflow/lib/python3.6/site-packages (from seaborn) (1.19.5)\n",
      "Requirement already satisfied: matplotlib>=2.2 in /home/pxy/miniconda3/envs/tensorflow/lib/python3.6/site-packages (from seaborn) (3.3.4)\n",
      "Requirement already satisfied: pandas>=0.23 in /home/pxy/miniconda3/envs/tensorflow/lib/python3.6/site-packages (from seaborn) (1.1.5)\n",
      "Requirement already satisfied: kiwisolver>=1.0.1 in /home/pxy/miniconda3/envs/tensorflow/lib/python3.6/site-packages (from matplotlib>=2.2->seaborn) (1.3.1)\n",
      "Requirement already satisfied: python-dateutil>=2.1 in /home/pxy/miniconda3/envs/tensorflow/lib/python3.6/site-packages (from matplotlib>=2.2->seaborn) (2.8.2)\n",
      "Requirement already satisfied: pillow>=6.2.0 in /home/pxy/miniconda3/envs/tensorflow/lib/python3.6/site-packages (from matplotlib>=2.2->seaborn) (8.4.0)\n",
      "Requirement already satisfied: cycler>=0.10 in /home/pxy/miniconda3/envs/tensorflow/lib/python3.6/site-packages (from matplotlib>=2.2->seaborn) (0.11.0)\n",
      "Requirement already satisfied: pyparsing!=2.0.4,!=2.1.2,!=2.1.6,>=2.0.3 in /home/pxy/miniconda3/envs/tensorflow/lib/python3.6/site-packages (from matplotlib>=2.2->seaborn) (3.1.4)\n",
      "Requirement already satisfied: pytz>=2017.2 in /home/pxy/miniconda3/envs/tensorflow/lib/python3.6/site-packages (from pandas>=0.23->seaborn) (2023.3.post1)\n",
      "Requirement already satisfied: six>=1.5 in /home/pxy/miniconda3/envs/tensorflow/lib/python3.6/site-packages (from python-dateutil>=2.1->matplotlib>=2.2->seaborn) (1.15.0)\n",
      "Installing collected packages: seaborn\n",
      "Successfully installed seaborn-0.11.2\n"
     ]
    }
   ],
   "source": [
    "!pip install seaborn"
   ]
  },
  {
   "cell_type": "code",
   "execution_count": 46,
   "metadata": {},
   "outputs": [
    {
     "data": {
      "text/plain": [
       "Text(0.5, 53.0, '预测结果')"
      ]
     },
     "execution_count": 46,
     "metadata": {},
     "output_type": "execute_result"
    },
    {
     "data": {
      "image/png": "[encoded data removed]",
      "text/plain": [
       "<Figure size 720x576 with 2 Axes>"
      ]
     },
     "metadata": {
      "needs_background": "light"
     },
     "output_type": "display_data"
    }
   ],
   "source": [
    "import seaborn as sns\n",
    "from sklearn.metrics import  confusion_matrix\n",
    "plt.rcParams['font.sans-serif'] = ['SimHei'] #用来正常显示中文标签\n",
    "plt.rcParams['axes.unicode_minus'] = False #用来正常显示负号\n",
    "\n",
    "conf_mat = confusion_matrix(Y_test.argmax(axis=1) , y_pred) #混淆矩阵\n",
    "fig = plt.figure(figsize=(10,8)) #设置图像大小\n",
    "sns.heatmap(conf_mat, annot=True, fmt='d') #绘制热度图\n",
    "plt.ylabel('实际结果',fontsize=18)\n",
    "plt.xlabel('预测结果',fontsize=18)"
   ]
  },
  {
   "cell_type": "code",
   "execution_count": null,
   "metadata": {},
   "outputs": [],
   "source": []
  }
 ],
 "metadata": {
  "kernelspec": {
   "display_name": "Python [conda env:tensorflow]",
   "language": "python",
   "name": "conda-env-tensorflow-py"
  },
  "language_info": {
   "codemirror_mode": {
    "name": "ipython",
    "version": 3
   },
   "file_extension": ".py",
   "mimetype": "text/x-python",
   "name": "python",
   "nbconvert_exporter": "python",
   "pygments_lexer": "ipython3",
   "version": "3.6.13"
  }
 },
 "nbformat": 4,
 "nbformat_minor": 4
}
